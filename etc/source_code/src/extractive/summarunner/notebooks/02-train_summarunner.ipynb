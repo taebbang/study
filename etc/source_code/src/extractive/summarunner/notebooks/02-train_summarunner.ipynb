{
 "cells": [
  {
   "cell_type": "markdown",
   "metadata": {},
   "source": [
    "## Train SummaRuNNer"
   ]
  },
  {
   "cell_type": "markdown",
   "metadata": {},
   "source": [
    "## imports "
   ]
  },
  {
   "cell_type": "code",
   "execution_count": 1,
   "metadata": {},
   "outputs": [],
   "source": [
    "%load_ext lab_black"
   ]
  },
  {
   "cell_type": "code",
   "execution_count": 2,
   "metadata": {},
   "outputs": [],
   "source": [
    "import sys\n",
    "\n",
    "sys.path.append(\"..\")"
   ]
  },
  {
   "cell_type": "code",
   "execution_count": 4,
   "metadata": {},
   "outputs": [],
   "source": [
    "import dill\n",
    "import yaml\n",
    "import numpy as np\n",
    "\n",
    "import torch\n",
    "import torch.nn as nn\n",
    "import torch.optim as optim\n",
    "import torch.nn.functional as F\n",
    "from torch.utils.data import DataLoader, Dataset\n",
    "\n",
    "import pytorch_lightning as pl\n",
    "from pytorch_lightning import Trainer\n",
    "from pytorch_lightning.callbacks import ModelCheckpoint, EarlyStopping\n",
    "from pytorch_lightning.loggers import TestTubeLogger  # pip install test-tube\n",
    "\n",
    "from functools import partial\n",
    "from collections import OrderedDict\n",
    "from konlpy.tag import Mecab\n",
    "\n",
    "from model import SummaRunner\n",
    "from model import SumDataset, Feature\n",
    "from model import build_vocab\n",
    "from model.types_ import *\n",
    "\n",
    "import warnings\n",
    "\n",
    "warnings.filterwarnings(action=\"ignore\")"
   ]
  },
  {
   "cell_type": "code",
   "execution_count": 5,
   "metadata": {},
   "outputs": [],
   "source": [
    "# DEVICE = torch.device(f\"cuda\" if torch.cuda.is_available() else \"cpu\")\n",
    "\n",
    "seed = 42\n",
    "np.random.seed(seed)\n",
    "torch.manual_seed(seed)\n",
    "torch.backends.cudnn.deterministic = True\n",
    "torch.backends.cudnn.benchmark = False"
   ]
  },
  {
   "cell_type": "markdown",
   "metadata": {},
   "source": [
    " "
   ]
  },
  {
   "cell_type": "markdown",
   "metadata": {},
   "source": [
    "## config file"
   ]
  },
  {
   "cell_type": "code",
   "execution_count": 6,
   "metadata": {},
   "outputs": [],
   "source": [
    "config_path = \"./config.yaml\"\n",
    "\n",
    "with open(config_path, \"r\") as file:\n",
    "    try:\n",
    "        config = yaml.safe_load(file)\n",
    "    except yaml.YAMLError as exc:\n",
    "        print(exc)"
   ]
  },
  {
   "cell_type": "code",
   "execution_count": 7,
   "metadata": {},
   "outputs": [
    {
     "data": {
      "text/plain": [
       "{'model_params': {'embed_dim': 100,\n",
       "  'hidden_dim': 128,\n",
       "  'num_layers': 1,\n",
       "  'bidirectional': True,\n",
       "  'dropout_p': 0.3,\n",
       "  'maxlen': 50},\n",
       " 'exp_params': {'train_path': '../../../../datasets/kor_data/total_data/train_50965.jsonl',\n",
       "  'dev_path': '../../../../datasets/kor_data/total_data/dev_50965.jsonl',\n",
       "  'test_path': '../../../../datasets/kor_data/total_data/test_50965.jsonl',\n",
       "  'vocab_path': './word_index_v02.pkl',\n",
       "  'batch_size': 32,\n",
       "  'LR': 0.001},\n",
       " 'trainer_params': {'gpus': 1, 'max_epochs': 30},\n",
       " 'logging_params': {'save_dir': 'logs/',\n",
       "  'name': 'SummaRuNNer',\n",
       "  'manual_seed': 42}}"
      ]
     },
     "execution_count": 7,
     "metadata": {},
     "output_type": "execute_result"
    }
   ],
   "source": [
    "config"
   ]
  },
  {
   "cell_type": "markdown",
   "metadata": {},
   "source": [
    " "
   ]
  },
  {
   "cell_type": "markdown",
   "metadata": {},
   "source": [
    "## Model"
   ]
  },
  {
   "cell_type": "code",
   "execution_count": 10,
   "metadata": {},
   "outputs": [],
   "source": [
    "# ----------------\n",
    "# SetUp Model\n",
    "# ----------------\n",
    "\n",
    "# vocab_size\n",
    "config[\"model_params\"][\"vocab_size\"] = len(word_index)\n",
    "# num_class\n",
    "config[\"model_params\"][\"num_class\"] = 1\n",
    "\n",
    "model = SummaRunner(**config[\"model_params\"])\n",
    "experiment = Experiment(model, config[\"exp_params\"])"
   ]
  },
  {
   "cell_type": "code",
   "execution_count": 11,
   "metadata": {},
   "outputs": [
    {
     "name": "stderr",
     "output_type": "stream",
     "text": [
      "EarlyStopping mode auto is unknown, fallback to auto mode.\n",
      "EarlyStopping mode set to min for monitoring val_loss.\n"
     ]
    }
   ],
   "source": [
    "# ----------------\n",
    "# TestTubeLogger\n",
    "# ----------------\n",
    "tt_logger = TestTubeLogger(\n",
    "    save_dir=config[\"logging_params\"][\"save_dir\"],\n",
    "    name=config[\"logging_params\"][\"name\"],\n",
    "    debug=False,\n",
    "    create_git_tag=False,\n",
    ")\n",
    "\n",
    "# ----------------\n",
    "# Checkpoint\n",
    "# ----------------\n",
    "checkpoint_callback = ModelCheckpoint(\n",
    "    filepath=\"./checkpoints/summarunner{epoch:02d}_{val_loss:.3f}\",\n",
    "    monitor=\"val_loss\",\n",
    "    verbose=True,\n",
    "    save_top_k=5,\n",
    ")\n",
    "\n",
    "early_stopping = EarlyStopping(monitor=\"val_loss\", patience=5, verbose=True)"
   ]
  },
  {
   "cell_type": "markdown",
   "metadata": {},
   "source": [
    " "
   ]
  },
  {
   "cell_type": "markdown",
   "metadata": {},
   "source": [
    "## Trainer"
   ]
  },
  {
   "cell_type": "code",
   "execution_count": 12,
   "metadata": {},
   "outputs": [
    {
     "name": "stderr",
     "output_type": "stream",
     "text": [
      "GPU available: True, used: True\n",
      "No environment variable for node rank defined. Set as 0.\n",
      "CUDA_VISIBLE_DEVICES: [0]\n"
     ]
    }
   ],
   "source": [
    "# ----------------\n",
    "# Trainer\n",
    "# ----------------\n",
    "\n",
    "runner = Trainer(\n",
    "    default_save_path=f\"{tt_logger.save_dir}\",\n",
    "    min_epochs=1,\n",
    "    logger=tt_logger,\n",
    "    log_save_interval=100,\n",
    "    train_percent_check=1.0,\n",
    "    val_percent_check=1.0,\n",
    "    num_sanity_val_steps=5,\n",
    "    early_stop_callback=early_stopping,\n",
    "    checkpoint_callback=checkpoint_callback,\n",
    "    **config[\"trainer_params\"],\n",
    ")"
   ]
  },
  {
   "cell_type": "markdown",
   "metadata": {},
   "source": [
    " "
   ]
  },
  {
   "cell_type": "markdown",
   "metadata": {},
   "source": [
    "## Train"
   ]
  },
  {
   "cell_type": "code",
   "execution_count": null,
   "metadata": {},
   "outputs": [
    {
     "name": "stderr",
     "output_type": "stream",
     "text": [
      "\n",
      "   | Name                              | Type            | Params\n",
      "------------------------------------------------------------------\n",
      "0  | model                             | SummaRunner     | 4 M   \n",
      "1  | model.abs_pos_embed               | Embedding       | 5 K   \n",
      "2  | model.rel_pos_embed               | Embedding       | 500   \n",
      "3  | model.encoder                     | Encoder         | 4 M   \n",
      "4  | model.encoder.sent_encoder        | SentenceEncoder | 4 M   \n",
      "5  | model.encoder.sent_encoder.embed  | Embedding       | 4 M   \n",
      "6  | model.encoder.sent_encoder.bilstm | LSTM            | 235 K \n",
      "7  | model.encoder.doc_encoder         | DocumentEncoder | 395 K \n",
      "8  | model.encoder.doc_encoder.bilstm  | LSTM            | 395 K \n",
      "9  | model.fc                          | Linear          | 65 K  \n",
      "10 | model.content                     | Linear          | 256   \n",
      "11 | model.salience                    | Bilinear        | 65 K  \n",
      "12 | model.novelty                     | Bilinear        | 65 K  \n",
      "13 | model.abs_pos                     | Linear          | 50    \n",
      "14 | model.rel_pos                     | Linear          | 50    \n",
      "15 | _loss                             | BCELoss         | 0     \n"
     ]
    },
    {
     "data": {
      "application/vnd.jupyter.widget-view+json": {
       "model_id": "2572503972b74dba8a4f1f02ca9b4f81",
       "version_major": 2,
       "version_minor": 0
      },
      "text/plain": [
       "HBox(children=(FloatProgress(value=1.0, bar_style='info', description='Validation sanity check', layout=Layout…"
      ]
     },
     "metadata": {},
     "output_type": "display_data"
    }
   ],
   "source": [
    "# ----------------\n",
    "# Start Train\n",
    "# ----------------\n",
    "runner.fit(experiment, train_loader, dev_loader)"
   ]
  },
  {
   "cell_type": "code",
   "execution_count": null,
   "metadata": {},
   "outputs": [],
   "source": []
  }
 ],
 "metadata": {
  "kernelspec": {
   "display_name": "PyTorch",
   "language": "python",
   "name": "pytorch"
  },
  "language_info": {
   "codemirror_mode": {
    "name": "ipython",
    "version": 3
   },
   "file_extension": ".py",
   "mimetype": "text/x-python",
   "name": "python",
   "nbconvert_exporter": "python",
   "pygments_lexer": "ipython3",
   "version": "3.6.10"
  }
 },
 "nbformat": 4,
 "nbformat_minor": 4
}
