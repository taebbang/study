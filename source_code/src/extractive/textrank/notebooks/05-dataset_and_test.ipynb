{
 "cells": [
  {
   "cell_type": "markdown",
   "metadata": {},
   "source": [
    "# Dataset"
   ]
  },
  {
   "cell_type": "markdown",
   "metadata": {},
   "source": [
    "## imports"
   ]
  },
  {
   "cell_type": "code",
   "execution_count": 1,
   "metadata": {},
   "outputs": [],
   "source": [
    "%load_ext lab_black"
   ]
  },
  {
   "cell_type": "code",
   "execution_count": 2,
   "metadata": {},
   "outputs": [],
   "source": [
    "import sys\n",
    "\n",
    "sys.path.append(\"..\")"
   ]
  },
  {
   "cell_type": "code",
   "execution_count": 3,
   "metadata": {},
   "outputs": [],
   "source": [
    "import os\n",
    "import json\n",
    "\n",
    "from tqdm import tqdm\n",
    "from textrank import TextRank\n",
    "from utils import RougeScorer"
   ]
  },
  {
   "cell_type": "markdown",
   "metadata": {},
   "source": [
    " "
   ]
  },
  {
   "cell_type": "markdown",
   "metadata": {},
   "source": [
    "## Data Load"
   ]
  },
  {
   "cell_type": "code",
   "execution_count": 4,
   "metadata": {},
   "outputs": [],
   "source": [
    "def get_data(path):\n",
    "    with open(path, \"r\", encoding=\"utf-8\") as f:\n",
    "        jsonl = list(f)\n",
    "\n",
    "    datasets = []\n",
    "    for json_str in jsonl:\n",
    "        datasets.append(json.loads(json_str))\n",
    "\n",
    "    data = []\n",
    "    for dataset in datasets:\n",
    "        doc_id = dataset[\"id\"]\n",
    "        text = dataset[\"article_original\"]\n",
    "        gold = dataset[\"abstractive\"]\n",
    "        data.append((doc_id, text, gold))\n",
    "\n",
    "    return data"
   ]
  },
  {
   "cell_type": "code",
   "execution_count": 14,
   "metadata": {},
   "outputs": [],
   "source": [
    "path = \"../../../../datasets/kor_data/magazine/test.jsonl\"\n",
    "\n",
    "data = get_data(path)"
   ]
  },
  {
   "cell_type": "markdown",
   "metadata": {},
   "source": [
    " "
   ]
  },
  {
   "cell_type": "markdown",
   "metadata": {},
   "source": [
    "## TextRank"
   ]
  },
  {
   "cell_type": "code",
   "execution_count": 15,
   "metadata": {},
   "outputs": [],
   "source": [
    "output_path = \"../outputs/magazine\"\n",
    "hyp_path = f\"{output_path}/hyp\"\n",
    "abs_ref_path = f\"{output_path}/abs_ref\"\n",
    "\n",
    "if not os.path.exists(output_path):\n",
    "    os.mkdir(output_path)\n",
    "if not os.path.exists(hyp_path):\n",
    "    os.mkdir(hyp_path)\n",
    "if not os.path.exists(abs_ref_path):\n",
    "    os.mkdir(abs_ref_path)"
   ]
  },
  {
   "cell_type": "code",
   "execution_count": 16,
   "metadata": {},
   "outputs": [],
   "source": [
    "model = TextRank(method=\"algebraic\")"
   ]
  },
  {
   "cell_type": "code",
   "execution_count": 17,
   "metadata": {},
   "outputs": [
    {
     "name": "stderr",
     "output_type": "stream",
     "text": [
      "100%|██████████| 5000/5000 [01:14<00:00, 66.89it/s]\n"
     ]
    }
   ],
   "source": [
    "for articles in tqdm(data):\n",
    "    doc_id, sents, gold = articles\n",
    "\n",
    "    hyp = model.summarize(sents)\n",
    "\n",
    "    with open(f\"{abs_ref_path}/{doc_id}.txt\", \"w\", encoding=\"utf8\") as f:\n",
    "        f.write(gold)\n",
    "    with open(f\"{hyp_path}/{doc_id}.txt\", \"w\", encoding=\"utf8\") as f:\n",
    "        f.write(hyp)"
   ]
  },
  {
   "cell_type": "markdown",
   "metadata": {},
   "source": [
    " "
   ]
  },
  {
   "cell_type": "markdown",
   "metadata": {},
   "source": [
    "## Rouge Score"
   ]
  },
  {
   "cell_type": "code",
   "execution_count": 15,
   "metadata": {},
   "outputs": [],
   "source": [
    "hyp_path = \"../outputs/magazine/hyp\"\n",
    "ref_path = \"../outputs/magazine/abs_ref\""
   ]
  },
  {
   "cell_type": "code",
   "execution_count": 16,
   "metadata": {},
   "outputs": [
    {
     "name": "stderr",
     "output_type": "stream",
     "text": [
      "100%|██████████| 5000/5000 [00:00<00:00, 30289.03it/s]"
     ]
    },
    {
     "name": "stdout",
     "output_type": "stream",
     "text": [
      "--------------------------------------------------\n",
      "# of Testset : 5000\n",
      "--------------------------------------------------\n"
     ]
    },
    {
     "name": "stderr",
     "output_type": "stream",
     "text": [
      "\n"
     ]
    }
   ],
   "source": [
    "rouge_eval = RougeScorer()\n",
    "result = rouge_eval.compute_rouge(ref_path, hyp_path)"
   ]
  },
  {
   "cell_type": "code",
   "execution_count": 11,
   "metadata": {},
   "outputs": [
    {
     "name": "stdout",
     "output_type": "stream",
     "text": [
      "\n",
      "\n",
      "    ****** ROUGE SCORES ******\n",
      "    ** ROUGE 1\n",
      "    F1        >> 0.361\n",
      "    Precision >> 0.271\n",
      "    Recall    >> 0.589\n",
      "    ** ROUGE 2\n",
      "    F1        >> 0.191\n",
      "    Precision >> 0.144\n",
      "    Recall    >> 0.312\n",
      "    ** ROUGE L\n",
      "    F1        >> 0.255\n",
      "    Precision >> 0.192\n",
      "    Recall    >> 0.416\n"
     ]
    }
   ],
   "source": [
    "# 뉴스\n",
    "print(result)"
   ]
  },
  {
   "cell_type": "code",
   "execution_count": 14,
   "metadata": {},
   "outputs": [
    {
     "name": "stdout",
     "output_type": "stream",
     "text": [
      "\n",
      "\n",
      "    ****** ROUGE SCORES ******\n",
      "    ** ROUGE 1\n",
      "    F1        >> 0.551\n",
      "    Precision >> 0.498\n",
      "    Recall    >> 0.676\n",
      "    ** ROUGE 2\n",
      "    F1        >> 0.379\n",
      "    Precision >> 0.346\n",
      "    Recall    >> 0.458\n",
      "    ** ROUGE L\n",
      "    F1        >> 0.440\n",
      "    Precision >> 0.399\n",
      "    Recall    >> 0.535\n"
     ]
    }
   ],
   "source": [
    "# 법률\n",
    "print(result)"
   ]
  },
  {
   "cell_type": "code",
   "execution_count": 17,
   "metadata": {},
   "outputs": [
    {
     "name": "stdout",
     "output_type": "stream",
     "text": [
      "\n",
      "\n",
      "    ****** ROUGE SCORES ******\n",
      "    ** ROUGE 1\n",
      "    F1        >> 0.316\n",
      "    Precision >> 0.266\n",
      "    Recall    >> 0.427\n",
      "    ** ROUGE 2\n",
      "    F1        >> 0.112\n",
      "    Precision >> 0.093\n",
      "    Recall    >> 0.152\n",
      "    ** ROUGE L\n",
      "    F1        >> 0.210\n",
      "    Precision >> 0.177\n",
      "    Recall    >> 0.284\n"
     ]
    }
   ],
   "source": [
    "# 메거진\n",
    "print(result)"
   ]
  },
  {
   "cell_type": "code",
   "execution_count": null,
   "metadata": {},
   "outputs": [],
   "source": []
  }
 ],
 "metadata": {
  "kernelspec": {
   "display_name": "PyTorch",
   "language": "python",
   "name": "pytorch"
  },
  "language_info": {
   "codemirror_mode": {
    "name": "ipython",
    "version": 3
   },
   "file_extension": ".py",
   "mimetype": "text/x-python",
   "name": "python",
   "nbconvert_exporter": "python",
   "pygments_lexer": "ipython3",
   "version": "3.6.10"
  }
 },
 "nbformat": 4,
 "nbformat_minor": 4
}
